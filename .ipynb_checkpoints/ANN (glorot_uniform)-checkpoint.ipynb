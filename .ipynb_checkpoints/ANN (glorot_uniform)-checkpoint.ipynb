{
 "cells": [
  {
   "cell_type": "code",
   "execution_count": 1,
   "metadata": {},
   "outputs": [],
   "source": [
    "# Part 1 -> Data Preprocessing\n",
    "# Importing the libraries\n",
    "import numpy as np\n",
    "import matplotlib.pyplot as plt\n",
    "import pandas as pd"
   ]
  },
  {
   "cell_type": "code",
   "execution_count": 2,
   "metadata": {},
   "outputs": [],
   "source": [
    "# Importing the dataset\n",
    "df = pd.read_csv('Churn_Modelling.csv')"
   ]
  },
  {
   "cell_type": "code",
   "execution_count": 3,
   "metadata": {},
   "outputs": [],
   "source": [
    "X = df.iloc[:,3:13].values\n",
    "y = df.iloc[:,-1].values"
   ]
  },
  {
   "cell_type": "code",
   "execution_count": 4,
   "metadata": {},
   "outputs": [
    {
     "name": "stderr",
     "output_type": "stream",
     "text": [
      "/home/amit_bahir/.local/lib/python3.5/site-packages/sklearn/preprocessing/_encoders.py:368: FutureWarning: The handling of integer data will change in version 0.22. Currently, the categories are determined based on the range [0, max(values)], while in the future they will be determined based on the unique values.\n",
      "If you want the future behaviour and silence this warning, you can specify \"categories='auto'\".\n",
      "In case you used a LabelEncoder before this OneHotEncoder to convert the categories to integers, then you can now use the OneHotEncoder directly.\n",
      "  warnings.warn(msg, FutureWarning)\n",
      "/home/amit_bahir/.local/lib/python3.5/site-packages/sklearn/preprocessing/_encoders.py:390: DeprecationWarning: The 'categorical_features' keyword is deprecated in version 0.20 and will be removed in 0.22. You can use the ColumnTransformer instead.\n",
      "  \"use the ColumnTransformer instead.\", DeprecationWarning)\n"
     ]
    }
   ],
   "source": [
    "# Encoding categorical data\n",
    "from sklearn.preprocessing import LabelEncoder, OneHotEncoder\n",
    "label_encoder_X_geo = LabelEncoder()\n",
    "X[:, 1] = label_encoder_X_geo.fit_transform(X[:, 1])\n",
    "label_encoder_X_gen = LabelEncoder()\n",
    "X[:, 2] = label_encoder_X_gen.fit_transform(X[:, 2])\n",
    "\n",
    "onehotencoder = OneHotEncoder(categorical_features=[1])\n",
    "X = onehotencoder.fit_transform(X).toarray() # for the country column\n",
    "# Removing one column to avoid dummy variable trap\n",
    "X = X[:, 1:]"
   ]
  },
  {
   "cell_type": "code",
   "execution_count": 5,
   "metadata": {},
   "outputs": [],
   "source": [
    "# Splitting the dataset into the Training set and Test set\n",
    "from sklearn.model_selection import train_test_split\n",
    "X_train, X_test, y_train, y_test = train_test_split(X, y, test_size = 0.2, random_state = 0)\n",
    "\n",
    "# Feature Scaling\n",
    "from sklearn.preprocessing import StandardScaler\n",
    "sc = StandardScaler()\n",
    "X_train = sc.fit_transform(X_train)\n",
    "X_test = sc.transform(X_test)"
   ]
  },
  {
   "cell_type": "code",
   "execution_count": 6,
   "metadata": {},
   "outputs": [
    {
     "name": "stderr",
     "output_type": "stream",
     "text": [
      "Using TensorFlow backend.\n"
     ]
    }
   ],
   "source": [
    "# Part 2 -> Let's make the ANN\n",
    "\n",
    "# Importing the keras libraries and package\n",
    "import keras\n",
    "from keras.models import Sequential # This is used to initialize our neural network\n",
    "from keras.layers import Dense # This is used to build layers of our ANN"
   ]
  },
  {
   "cell_type": "code",
   "execution_count": 7,
   "metadata": {},
   "outputs": [],
   "source": [
    "# Initializing the ANN\n",
    "    # There are two ways\n",
    "    # -> by sequencing of layers (we are doing this)\n",
    "    # -> by defining a graph\n",
    "\n",
    "classifier = Sequential()"
   ]
  },
  {
   "cell_type": "code",
   "execution_count": 8,
   "metadata": {},
   "outputs": [
    {
     "name": "stdout",
     "output_type": "stream",
     "text": [
      "WARNING:tensorflow:From /home/amit_bahir/.local/lib/python3.5/site-packages/tensorflow/python/framework/op_def_library.py:263: colocate_with (from tensorflow.python.framework.ops) is deprecated and will be removed in a future version.\n",
      "Instructions for updating:\n",
      "Colocations handled automatically by placer.\n"
     ]
    }
   ],
   "source": [
    "# Now Adding the input layer and the hidden layer\n",
    "classifier.add(Dense(6, kernel_initializer='random_uniform',activation= 'relu' ,input_shape=(11,))) # (11+1)/2 = 6\n",
    "#      choosing the no of nodes in hidden layer is an art\n",
    "#      or a tip is to select the average of the no of nodes in input layer and in output layer\n",
    "#      if u want to be an artist -> we need to do parameter tuning"
   ]
  },
  {
   "cell_type": "code",
   "execution_count": 9,
   "metadata": {},
   "outputs": [],
   "source": [
    "# Adding the second hidden layer\n",
    "classifier.add(Dense(6, kernel_initializer='glorot_uniform',activation= 'relu')) # same tip we use ->(11+1)/2 = 6"
   ]
  },
  {
   "cell_type": "code",
   "execution_count": 10,
   "metadata": {},
   "outputs": [],
   "source": [
    "# Adding the final output layer\n",
    "classifier.add(Dense(1, kernel_initializer='glorot_uniform',activation= 'sigmoid')) #same tip we use ->(11+1)/2 = 6\n",
    "\n",
    "# If a dependent variable has more than two categories -> apply the SOFT MAX function "
   ]
  },
  {
   "cell_type": "code",
   "execution_count": 11,
   "metadata": {},
   "outputs": [],
   "source": [
    "# Compiling the ANN\n",
    "#     basically Applying SGD on the whole ANN\n",
    "classifier.compile(optimizer = 'adam', loss= 'binary_crossentropy', metrics= ['accuracy'])\n",
    "#     If the dependent variable has more than 2 categories then use loss= 'categorical_crossentropy'"
   ]
  },
  {
   "cell_type": "code",
   "execution_count": 12,
   "metadata": {},
   "outputs": [
    {
     "name": "stdout",
     "output_type": "stream",
     "text": [
      "WARNING:tensorflow:From /home/amit_bahir/.local/lib/python3.5/site-packages/tensorflow/python/ops/math_ops.py:3066: to_int32 (from tensorflow.python.ops.math_ops) is deprecated and will be removed in a future version.\n",
      "Instructions for updating:\n",
      "Use tf.cast instead.\n",
      "Epoch 1/100\n",
      "8000/8000 [==============================] - 1s 95us/step - loss: 0.4709 - acc: 0.7960\n",
      "Epoch 2/100\n",
      "8000/8000 [==============================] - 1s 68us/step - loss: 0.4118 - acc: 0.8049\n",
      "Epoch 3/100\n",
      "8000/8000 [==============================] - 1s 63us/step - loss: 0.3798 - acc: 0.8420\n",
      "Epoch 4/100\n",
      "8000/8000 [==============================] - 1s 65us/step - loss: 0.3607 - acc: 0.8522\n",
      "Epoch 5/100\n",
      "8000/8000 [==============================] - 1s 64us/step - loss: 0.3544 - acc: 0.8562\n",
      "Epoch 6/100\n",
      "8000/8000 [==============================] - 1s 69us/step - loss: 0.3506 - acc: 0.8586\n",
      "Epoch 7/100\n",
      "8000/8000 [==============================] - 0s 62us/step - loss: 0.3502 - acc: 0.8584\n",
      "Epoch 8/100\n",
      "8000/8000 [==============================] - 1s 64us/step - loss: 0.3493 - acc: 0.8592\n",
      "Epoch 9/100\n",
      "8000/8000 [==============================] - 1s 64us/step - loss: 0.3479 - acc: 0.8591\n",
      "Epoch 10/100\n",
      "8000/8000 [==============================] - 1s 64us/step - loss: 0.3480 - acc: 0.8620\n",
      "Epoch 11/100\n",
      "8000/8000 [==============================] - 1s 66us/step - loss: 0.3457 - acc: 0.8590\n",
      "Epoch 12/100\n",
      "8000/8000 [==============================] - 1s 66us/step - loss: 0.3451 - acc: 0.8602\n",
      "Epoch 13/100\n",
      "8000/8000 [==============================] - 1s 71us/step - loss: 0.3441 - acc: 0.8616\n",
      "Epoch 14/100\n",
      "8000/8000 [==============================] - 1s 64us/step - loss: 0.3435 - acc: 0.8632\n",
      "Epoch 15/100\n",
      "8000/8000 [==============================] - 1s 65us/step - loss: 0.3424 - acc: 0.8631\n",
      "Epoch 16/100\n",
      "8000/8000 [==============================] - 1s 64us/step - loss: 0.3430 - acc: 0.8615\n",
      "Epoch 17/100\n",
      "8000/8000 [==============================] - 1s 65us/step - loss: 0.3421 - acc: 0.8617\n",
      "Epoch 18/100\n",
      "8000/8000 [==============================] - 1s 64us/step - loss: 0.3416 - acc: 0.8609\n",
      "Epoch 19/100\n",
      "8000/8000 [==============================] - 1s 67us/step - loss: 0.3403 - acc: 0.8625\n",
      "Epoch 20/100\n",
      "8000/8000 [==============================] - 1s 67us/step - loss: 0.3403 - acc: 0.8606\n",
      "Epoch 21/100\n",
      "8000/8000 [==============================] - 1s 64us/step - loss: 0.3399 - acc: 0.8632\n",
      "Epoch 22/100\n",
      "8000/8000 [==============================] - 1s 68us/step - loss: 0.3391 - acc: 0.8624\n",
      "Epoch 23/100\n",
      "8000/8000 [==============================] - 1s 66us/step - loss: 0.3394 - acc: 0.8619\n",
      "Epoch 24/100\n",
      "8000/8000 [==============================] - 1s 69us/step - loss: 0.3389 - acc: 0.8636\n",
      "Epoch 25/100\n",
      "8000/8000 [==============================] - 1s 67us/step - loss: 0.3380 - acc: 0.8629\n",
      "Epoch 26/100\n",
      "8000/8000 [==============================] - 1s 67us/step - loss: 0.3380 - acc: 0.8640\n",
      "Epoch 27/100\n",
      "8000/8000 [==============================] - 1s 64us/step - loss: 0.3382 - acc: 0.8614\n",
      "Epoch 28/100\n",
      "8000/8000 [==============================] - 1s 68us/step - loss: 0.3375 - acc: 0.8649\n",
      "Epoch 29/100\n",
      "8000/8000 [==============================] - 1s 66us/step - loss: 0.3379 - acc: 0.8620\n",
      "Epoch 30/100\n",
      "8000/8000 [==============================] - 1s 67us/step - loss: 0.3378 - acc: 0.8626\n",
      "Epoch 31/100\n",
      "8000/8000 [==============================] - 1s 64us/step - loss: 0.3372 - acc: 0.8626\n",
      "Epoch 32/100\n",
      "8000/8000 [==============================] - 1s 65us/step - loss: 0.3372 - acc: 0.8617\n",
      "Epoch 33/100\n",
      "8000/8000 [==============================] - 1s 67us/step - loss: 0.3368 - acc: 0.8639\n",
      "Epoch 34/100\n",
      "8000/8000 [==============================] - 1s 73us/step - loss: 0.3368 - acc: 0.8626\n",
      "Epoch 35/100\n",
      "8000/8000 [==============================] - 1s 66us/step - loss: 0.3369 - acc: 0.8630\n",
      "Epoch 36/100\n",
      "8000/8000 [==============================] - 1s 68us/step - loss: 0.3363 - acc: 0.8625\n",
      "Epoch 37/100\n",
      "8000/8000 [==============================] - 1s 64us/step - loss: 0.3378 - acc: 0.8616\n",
      "Epoch 38/100\n",
      "8000/8000 [==============================] - 1s 66us/step - loss: 0.3366 - acc: 0.8630\n",
      "Epoch 39/100\n",
      "8000/8000 [==============================] - 1s 65us/step - loss: 0.3361 - acc: 0.8637\n",
      "Epoch 40/100\n",
      "8000/8000 [==============================] - 1s 65us/step - loss: 0.3365 - acc: 0.8601\n",
      "Epoch 41/100\n",
      "8000/8000 [==============================] - 1s 66us/step - loss: 0.3369 - acc: 0.8641\n",
      "Epoch 42/100\n",
      "8000/8000 [==============================] - 1s 69us/step - loss: 0.3363 - acc: 0.8634\n",
      "Epoch 43/100\n",
      "8000/8000 [==============================] - 1s 67us/step - loss: 0.3365 - acc: 0.8634\n",
      "Epoch 44/100\n",
      "8000/8000 [==============================] - 1s 63us/step - loss: 0.3359 - acc: 0.8611\n",
      "Epoch 45/100\n",
      "8000/8000 [==============================] - 1s 64us/step - loss: 0.3361 - acc: 0.8615\n",
      "Epoch 46/100\n",
      "8000/8000 [==============================] - 1s 64us/step - loss: 0.3356 - acc: 0.8627\n",
      "Epoch 47/100\n",
      "8000/8000 [==============================] - 1s 67us/step - loss: 0.3352 - acc: 0.8635\n",
      "Epoch 48/100\n",
      "8000/8000 [==============================] - 1s 67us/step - loss: 0.3359 - acc: 0.8647\n",
      "Epoch 49/100\n",
      "8000/8000 [==============================] - 1s 70us/step - loss: 0.3359 - acc: 0.8624\n",
      "Epoch 50/100\n",
      "8000/8000 [==============================] - 1s 65us/step - loss: 0.3355 - acc: 0.8637\n",
      "Epoch 51/100\n",
      "8000/8000 [==============================] - 1s 66us/step - loss: 0.3358 - acc: 0.8629\n",
      "Epoch 52/100\n",
      "8000/8000 [==============================] - 1s 67us/step - loss: 0.3351 - acc: 0.8644\n",
      "Epoch 53/100\n",
      "8000/8000 [==============================] - 1s 68us/step - loss: 0.3349 - acc: 0.8659\n",
      "Epoch 54/100\n",
      "8000/8000 [==============================] - 1s 70us/step - loss: 0.3349 - acc: 0.8645\n",
      "Epoch 55/100\n",
      "8000/8000 [==============================] - 1s 68us/step - loss: 0.3353 - acc: 0.8622\n",
      "Epoch 56/100\n",
      "8000/8000 [==============================] - 1s 68us/step - loss: 0.3341 - acc: 0.8640: 0s - loss: 0.3325 - acc: \n",
      "Epoch 57/100\n",
      "8000/8000 [==============================] - 1s 66us/step - loss: 0.3354 - acc: 0.8626\n",
      "Epoch 58/100\n",
      "8000/8000 [==============================] - 1s 68us/step - loss: 0.3345 - acc: 0.8635\n",
      "Epoch 59/100\n",
      "8000/8000 [==============================] - 1s 66us/step - loss: 0.3353 - acc: 0.8642\n",
      "Epoch 60/100\n",
      "8000/8000 [==============================] - 1s 70us/step - loss: 0.3345 - acc: 0.8637\n",
      "Epoch 61/100\n",
      "8000/8000 [==============================] - 1s 70us/step - loss: 0.3353 - acc: 0.8650\n",
      "Epoch 62/100\n",
      "8000/8000 [==============================] - 1s 72us/step - loss: 0.3342 - acc: 0.8627\n",
      "Epoch 63/100\n",
      "8000/8000 [==============================] - 1s 71us/step - loss: 0.3339 - acc: 0.8640\n",
      "Epoch 64/100\n",
      "8000/8000 [==============================] - 1s 69us/step - loss: 0.3349 - acc: 0.8652\n",
      "Epoch 65/100\n",
      "8000/8000 [==============================] - 1s 68us/step - loss: 0.3346 - acc: 0.8635\n",
      "Epoch 66/100\n",
      "8000/8000 [==============================] - 1s 70us/step - loss: 0.3340 - acc: 0.8639\n",
      "Epoch 67/100\n",
      "8000/8000 [==============================] - 1s 70us/step - loss: 0.3337 - acc: 0.8650\n",
      "Epoch 68/100\n",
      "8000/8000 [==============================] - 1s 71us/step - loss: 0.3341 - acc: 0.8629\n",
      "Epoch 69/100\n",
      "8000/8000 [==============================] - 1s 67us/step - loss: 0.3338 - acc: 0.8635\n",
      "Epoch 70/100\n",
      "8000/8000 [==============================] - 1s 70us/step - loss: 0.3346 - acc: 0.8645\n",
      "Epoch 71/100\n",
      "8000/8000 [==============================] - 1s 70us/step - loss: 0.3343 - acc: 0.8636\n",
      "Epoch 72/100\n",
      "8000/8000 [==============================] - 1s 72us/step - loss: 0.3345 - acc: 0.8639\n",
      "Epoch 73/100\n",
      "8000/8000 [==============================] - 1s 68us/step - loss: 0.3346 - acc: 0.8639\n",
      "Epoch 74/100\n",
      "8000/8000 [==============================] - 1s 70us/step - loss: 0.3343 - acc: 0.8631\n",
      "Epoch 75/100\n",
      "8000/8000 [==============================] - 1s 71us/step - loss: 0.3340 - acc: 0.8636\n",
      "Epoch 76/100\n",
      "8000/8000 [==============================] - 1s 70us/step - loss: 0.3337 - acc: 0.8630\n",
      "Epoch 77/100\n",
      "8000/8000 [==============================] - 1s 72us/step - loss: 0.3333 - acc: 0.8665\n",
      "Epoch 78/100\n",
      "8000/8000 [==============================] - 1s 68us/step - loss: 0.3342 - acc: 0.8652\n",
      "Epoch 79/100\n",
      "8000/8000 [==============================] - 1s 71us/step - loss: 0.3338 - acc: 0.8641\n",
      "Epoch 80/100\n"
     ]
    },
    {
     "name": "stdout",
     "output_type": "stream",
     "text": [
      "8000/8000 [==============================] - 1s 69us/step - loss: 0.3338 - acc: 0.8650\n",
      "Epoch 81/100\n",
      "8000/8000 [==============================] - 1s 64us/step - loss: 0.3340 - acc: 0.8639\n",
      "Epoch 82/100\n",
      "8000/8000 [==============================] - 1s 69us/step - loss: 0.3339 - acc: 0.8642\n",
      "Epoch 83/100\n",
      "8000/8000 [==============================] - 1s 68us/step - loss: 0.3336 - acc: 0.8632\n",
      "Epoch 84/100\n",
      "8000/8000 [==============================] - 1s 69us/step - loss: 0.3340 - acc: 0.8629\n",
      "Epoch 85/100\n",
      "8000/8000 [==============================] - 0s 62us/step - loss: 0.3338 - acc: 0.8664\n",
      "Epoch 86/100\n",
      "8000/8000 [==============================] - 1s 68us/step - loss: 0.3330 - acc: 0.8670\n",
      "Epoch 87/100\n",
      "8000/8000 [==============================] - 1s 67us/step - loss: 0.3335 - acc: 0.8647\n",
      "Epoch 88/100\n",
      "8000/8000 [==============================] - 1s 68us/step - loss: 0.3330 - acc: 0.8644\n",
      "Epoch 89/100\n",
      "8000/8000 [==============================] - 1s 66us/step - loss: 0.3330 - acc: 0.8644\n",
      "Epoch 90/100\n",
      "8000/8000 [==============================] - 1s 66us/step - loss: 0.3336 - acc: 0.8636\n",
      "Epoch 91/100\n",
      "8000/8000 [==============================] - 1s 68us/step - loss: 0.3331 - acc: 0.8639\n",
      "Epoch 92/100\n",
      "8000/8000 [==============================] - 1s 68us/step - loss: 0.3333 - acc: 0.8644\n",
      "Epoch 93/100\n",
      "8000/8000 [==============================] - 1s 67us/step - loss: 0.3331 - acc: 0.8646\n",
      "Epoch 94/100\n",
      "8000/8000 [==============================] - 1s 68us/step - loss: 0.3324 - acc: 0.8634\n",
      "Epoch 95/100\n",
      "8000/8000 [==============================] - 1s 65us/step - loss: 0.3330 - acc: 0.8636\n",
      "Epoch 96/100\n",
      "8000/8000 [==============================] - 1s 67us/step - loss: 0.3329 - acc: 0.8620\n",
      "Epoch 97/100\n",
      "8000/8000 [==============================] - 1s 67us/step - loss: 0.3332 - acc: 0.8634\n",
      "Epoch 98/100\n",
      "8000/8000 [==============================] - 1s 67us/step - loss: 0.3328 - acc: 0.8637\n",
      "Epoch 99/100\n",
      "8000/8000 [==============================] - 1s 66us/step - loss: 0.3333 - acc: 0.8639\n",
      "Epoch 100/100\n",
      "8000/8000 [==============================] - 1s 68us/step - loss: 0.3326 - acc: 0.8645\n"
     ]
    },
    {
     "data": {
      "text/plain": [
       "<keras.callbacks.History at 0x7f38316d5908>"
      ]
     },
     "execution_count": 12,
     "metadata": {},
     "output_type": "execute_result"
    }
   ],
   "source": [
    "# Fitting the ANN\n",
    "classifier.fit(X_train, y_train, batch_size= 10, epochs= 100)"
   ]
  },
  {
   "cell_type": "markdown",
   "metadata": {},
   "source": [
    "glorot_uniform\n",
    "\n",
    "keras.initializers.glorot_uniform(seed=None)\n",
    "\n",
    "Glorot uniform initializer, also called Xavier uniform initializer.\n",
    "\n",
    "It draws samples from a uniform distribution within [-limit, limit] where limit is sqrt(6 / (fan_in + fan_out)) where fan_in is the number of input units in the weight tensor and fan_out is the number of output units in the weight tensor.\n",
    "\n"
   ]
  },
  {
   "cell_type": "code",
   "execution_count": 13,
   "metadata": {},
   "outputs": [],
   "source": [
    "# Predicting the result for test set\n",
    "y_pred = classifier.predict(X_test)\n",
    "y_pred = (y_pred > 0.5)"
   ]
  },
  {
   "cell_type": "code",
   "execution_count": 14,
   "metadata": {},
   "outputs": [
    {
     "data": {
      "text/plain": [
       "array([[1514,   81],\n",
       "       [ 193,  212]])"
      ]
     },
     "execution_count": 14,
     "metadata": {},
     "output_type": "execute_result"
    }
   ],
   "source": [
    "# Confusion matrix\n",
    "from sklearn.metrics import confusion_matrix\n",
    "cm = confusion_matrix(y_test, y_pred)\n",
    "cm"
   ]
  },
  {
   "cell_type": "code",
   "execution_count": 15,
   "metadata": {},
   "outputs": [
    {
     "data": {
      "text/plain": [
       "0.863"
      ]
     },
     "execution_count": 15,
     "metadata": {},
     "output_type": "execute_result"
    }
   ],
   "source": [
    "acc = (1514 + 212) / 2000\n",
    "acc"
   ]
  },
  {
   "cell_type": "code",
   "execution_count": null,
   "metadata": {},
   "outputs": [],
   "source": []
  }
 ],
 "metadata": {
  "kernelspec": {
   "display_name": "Python 3",
   "language": "python",
   "name": "python3"
  },
  "language_info": {
   "codemirror_mode": {
    "name": "ipython",
    "version": 3
   },
   "file_extension": ".py",
   "mimetype": "text/x-python",
   "name": "python",
   "nbconvert_exporter": "python",
   "pygments_lexer": "ipython3",
   "version": "3.5.2"
  }
 },
 "nbformat": 4,
 "nbformat_minor": 2
}
